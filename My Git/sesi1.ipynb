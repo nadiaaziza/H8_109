{
 "cells": [
  {
   "cell_type": "code",
   "execution_count": 2,
   "metadata": {},
   "outputs": [
    {
     "data": {
      "text/plain": [
       "123"
      ]
     },
     "execution_count": 2,
     "metadata": {},
     "output_type": "execute_result"
    }
   ],
   "source": [
    "123"
   ]
  },
  {
   "cell_type": "code",
   "execution_count": 4,
   "metadata": {},
   "outputs": [
    {
     "name": "stdout",
     "output_type": "stream",
     "text": [
      "200\n"
     ]
    }
   ],
   "source": [
    "print(200)"
   ]
  },
  {
   "cell_type": "code",
   "execution_count": 5,
   "metadata": {},
   "outputs": [
    {
     "data": {
      "text/plain": [
       "int"
      ]
     },
     "execution_count": 5,
     "metadata": {},
     "output_type": "execute_result"
    }
   ],
   "source": [
    "type(750)"
   ]
  },
  {
   "cell_type": "markdown",
   "metadata": {},
   "source": [
    "# tipe data di Python\n",
    "1. Integer (angka bulat)\n",
    "2. Float (angka ada desimal poin)\n",
    "\n",
    "## keyword Python\n",
    "- print (untuk mencetak data ke display)\n",
    "- type (untuk mengecek tipe data)"
   ]
  },
  {
   "cell_type": "code",
   "execution_count": 6,
   "metadata": {},
   "outputs": [
    {
     "data": {
      "text/plain": [
       "'Python'"
      ]
     },
     "execution_count": 6,
     "metadata": {},
     "output_type": "execute_result"
    }
   ],
   "source": [
    "\"Python\""
   ]
  },
  {
   "cell_type": "code",
   "execution_count": 7,
   "metadata": {},
   "outputs": [
    {
     "data": {
      "text/plain": [
       "str"
      ]
     },
     "execution_count": 7,
     "metadata": {},
     "output_type": "execute_result"
    }
   ],
   "source": [
    "type(\"Python\")"
   ]
  },
  {
   "cell_type": "code",
   "execution_count": 8,
   "metadata": {},
   "outputs": [
    {
     "name": "stdout",
     "output_type": "stream",
     "text": [
      "<class 'str'>\n"
     ]
    }
   ],
   "source": [
    "print(type(\"Python\"))"
   ]
  },
  {
   "cell_type": "code",
   "execution_count": 13,
   "metadata": {},
   "outputs": [
    {
     "name": "stdout",
     "output_type": "stream",
     "text": [
      "<class 'str'>\n"
     ]
    },
    {
     "data": {
      "text/plain": [
       "4"
      ]
     },
     "execution_count": 13,
     "metadata": {},
     "output_type": "execute_result"
    }
   ],
   "source": [
    "print(type(\"1\"))\n",
    "2\n",
    "3\n",
    "4"
   ]
  },
  {
   "cell_type": "code",
   "execution_count": 15,
   "metadata": {},
   "outputs": [
    {
     "data": {
      "text/plain": [
       "float"
      ]
     },
     "execution_count": 15,
     "metadata": {},
     "output_type": "execute_result"
    }
   ],
   "source": [
    "type(0.0)"
   ]
  },
  {
   "cell_type": "code",
   "execution_count": 16,
   "metadata": {},
   "outputs": [
    {
     "data": {
      "text/plain": [
       "int"
      ]
     },
     "execution_count": 16,
     "metadata": {},
     "output_type": "execute_result"
    }
   ],
   "source": [
    "type(0)"
   ]
  },
  {
   "cell_type": "markdown",
   "metadata": {},
   "source": [
    "4 tipe data dasar (primitive data type):\n",
    "\n",
    "semua yang dikutip menjadi tipe data String 'str'\n",
    "\n",
    "semua angka yang tidak memiliki desimal poin menjadi tipe data Integer 'int'\n",
    "\n",
    "semua angka yang memiliki desimal poin menjadi tipe data Float 'float'\n",
    "\n",
    "khusus untuk `True` dan `False`, mereka adalah tipe data Boolean 'bool'"
   ]
  },
  {
   "cell_type": "code",
   "execution_count": 17,
   "metadata": {},
   "outputs": [
    {
     "data": {
      "text/plain": [
       "True"
      ]
     },
     "execution_count": 17,
     "metadata": {},
     "output_type": "execute_result"
    }
   ],
   "source": [
    "True"
   ]
  },
  {
   "cell_type": "code",
   "execution_count": 18,
   "metadata": {},
   "outputs": [
    {
     "data": {
      "text/plain": [
       "False"
      ]
     },
     "execution_count": 18,
     "metadata": {},
     "output_type": "execute_result"
    }
   ],
   "source": [
    "False"
   ]
  },
  {
   "cell_type": "code",
   "execution_count": 19,
   "metadata": {},
   "outputs": [
    {
     "data": {
      "text/plain": [
       "bool"
      ]
     },
     "execution_count": 19,
     "metadata": {},
     "output_type": "execute_result"
    }
   ],
   "source": [
    "type(True)"
   ]
  },
  {
   "cell_type": "markdown",
   "metadata": {},
   "source": [
    "basic dari coding, pemrograman, adalah konsep ya/ tidak. dua value.\n",
    "\n",
    "kalau iya True, maka kita masuk ke blok kode yang ini... kalau tidak, ke blok kode yang itu...\n"
   ]
  },
  {
   "cell_type": "markdown",
   "metadata": {},
   "source": [
    "## Data Types\n",
    "\n",
    "hanya ada beberapa tipe data yang dimengerti oleh bahasa pemrograman seperti Python:\n",
    "1. int 123\n",
    "2. float 1.23\n",
    "3. string \"Halo!\"\n",
    "4. boolean True False\n",
    "\n",
    "data kalau kita tulis secara lepas, hanya bisa dibaca dan digunakan 1 kali. Misalnya kita mau simpan data nama murid, nilai murid. kalau kita tulis \"Andi\" 70 maka dua data ini cuma digunakan 1 kali saja.\n",
    "\n",
    "Biasanya data kita simpan ke `variable`\n",
    "\n",
    "## Variable\n",
    "kasih nama ke sebuah data.\n",
    "\n",
    "```python\n",
    "nilai_andi = 70\n",
    "\n",
    "#kita punya variable `nilai_andi` dan di dalam variable tersebut tersimpan data int 70\n",
    "\n",
    "Nilai_andi = 71\n",
    "nilai_Andi = 72\n",
    "Nilai_Andi = 73\n",
    "```\n",
    "\n",
    "peraturan penulisan variable:\n",
    "- dimulai dengan alfabet\n",
    "- spasi kita ganti jadi _\n",
    "- semua huruf kecil\n",
    "\n",
    "snake_case untuk Variable\n",
    "\n",
    "!! tidak boleh menggunakan keyword Python sebagai nama variable. Python tidak akan error, tapi kita akan kehilangan fungsi keyword tersebut. Misalnya, kalau kita bilang `print = 10` maka kita tidak bisa minta `print(\"halo\")` lagi, keyword print tertimpa."
   ]
  },
  {
   "cell_type": "code",
   "execution_count": 20,
   "metadata": {},
   "outputs": [
    {
     "name": "stdout",
     "output_type": "stream",
     "text": [
      "70\n",
      "71\n",
      "72\n",
      "73\n",
      "74\n",
      "75\n",
      "76\n"
     ]
    }
   ],
   "source": [
    "nilai_andi = 70\n",
    "\n",
    "Nilai_Andi = 71\n",
    "Nilai_andi = 72\n",
    "nilai_Andi = 73\n",
    "nilaiandi = 74\n",
    "nilaiAndi = 75\n",
    "NilaiAndi = 76\n",
    "\n",
    "print(nilai_andi)\n",
    "print(Nilai_Andi)\n",
    "print(Nilai_andi)\n",
    "print(nilai_Andi)\n",
    "print(nilaiandi)\n",
    "print(nilaiAndi)\n",
    "print(NilaiAndi)"
   ]
  },
  {
   "cell_type": "markdown",
   "metadata": {},
   "source": [
    "seperti yang bisa kita lihat di atas, variable bisa menyimpan data. Kita bisa panggil nama variable tersebut untuk mengakses data kita lagi.\n",
    "\n",
    "nama variable huruf besar kecil nya dianggap berbeda oleh Python. Tapi untuk kita, manusia, semuanya hampir sama. Karena itu kita standarisasi cara tulis variable pakai snake_case kecil semua, spasi diganti _"
   ]
  },
  {
   "cell_type": "code",
   "execution_count": 25,
   "metadata": {},
   "outputs": [
    {
     "data": {
      "text/plain": [
       "70"
      ]
     },
     "execution_count": 25,
     "metadata": {},
     "output_type": "execute_result"
    }
   ],
   "source": [
    "nilai_andi"
   ]
  },
  {
   "cell_type": "code",
   "execution_count": 26,
   "metadata": {},
   "outputs": [
    {
     "name": "stdout",
     "output_type": "stream",
     "text": [
      "80\n"
     ]
    }
   ],
   "source": [
    "nilai_andi = 80\n",
    "\n",
    "print(nilai_andi)"
   ]
  },
  {
   "cell_type": "code",
   "execution_count": 27,
   "metadata": {},
   "outputs": [
    {
     "name": "stdout",
     "output_type": "stream",
     "text": [
      "A\n"
     ]
    }
   ],
   "source": [
    "nilai_andi = \"A\"\n",
    "\n",
    "print(nilai_andi)"
   ]
  },
  {
   "cell_type": "markdown",
   "metadata": {},
   "source": [
    "## Operators and Expressions in Python\n",
    "\n",
    "set code yang bertujuan melakukan sesuatu, biasanya menerima data - diproses - memberikan output.\n",
    "\n",
    "Python dari bawaanya sendiri, sudah punya fungsi bawaan. built-in functions.\n",
    "\n",
    "misalnya, dia bisa jadi kalkulator. aritmatik + - * / bukan masalah\n",
    "\n",
    "selain aritmatik, ada juga fungsi mengubah tipe data lainnya misalnya string jadi huruf BESAR semua."
   ]
  },
  {
   "cell_type": "code",
   "execution_count": 28,
   "metadata": {},
   "outputs": [
    {
     "data": {
      "text/plain": [
       "150"
      ]
     },
     "execution_count": 28,
     "metadata": {},
     "output_type": "execute_result"
    }
   ],
   "source": [
    "50 + 100"
   ]
  },
  {
   "cell_type": "code",
   "execution_count": 29,
   "metadata": {},
   "outputs": [
    {
     "data": {
      "text/plain": [
       "'MARI BELAJAR DATA SCIENCE DENGAN PYTHON!'"
      ]
     },
     "execution_count": 29,
     "metadata": {},
     "output_type": "execute_result"
    }
   ],
   "source": [
    "pesan = \"Mari belajar Data Science dengan Python!\"\n",
    "\n",
    "pesan.upper()"
   ]
  },
  {
   "cell_type": "markdown",
   "metadata": {},
   "source": [
    "tipe data numerik, int dan float\n",
    "\n",
    "kita bisa lakukan aritmatik"
   ]
  },
  {
   "cell_type": "code",
   "execution_count": 30,
   "metadata": {},
   "outputs": [
    {
     "data": {
      "text/plain": [
       "-52.285714285714285"
      ]
     },
     "execution_count": 30,
     "metadata": {},
     "output_type": "execute_result"
    }
   ],
   "source": [
    "2 + 5 * 8 / 7 - 60"
   ]
  },
  {
   "cell_type": "code",
   "execution_count": 31,
   "metadata": {},
   "outputs": [
    {
     "data": {
      "text/plain": [
       "-51.871428571428574"
      ]
     },
     "execution_count": 31,
     "metadata": {},
     "output_type": "execute_result"
    }
   ],
   "source": [
    "2 + 5.8 * 8 / 7 - 60.5"
   ]
  },
  {
   "cell_type": "code",
   "execution_count": 32,
   "metadata": {},
   "outputs": [
    {
     "data": {
      "text/plain": [
       "6.75"
      ]
     },
     "execution_count": 32,
     "metadata": {},
     "output_type": "execute_result"
    }
   ],
   "source": [
    "1.15 + 2.25 + 3.35 "
   ]
  },
  {
   "cell_type": "code",
   "execution_count": 33,
   "metadata": {},
   "outputs": [
    {
     "name": "stdout",
     "output_type": "stream",
     "text": [
      "78.75\n"
     ]
    }
   ],
   "source": [
    "nilai_andi_a1 = 65\n",
    "nilai_andi_a2 = 75\n",
    "nilai_andi_a3 = 80\n",
    "nilai_andi_final = 95\n",
    "\n",
    "total_nilai_andi = nilai_andi_a1 + nilai_andi_a2 + nilai_andi_a3 + nilai_andi_final\n",
    "\n",
    "rata2_nilai_andi = total_nilai_andi / 4\n",
    "\n",
    "print(rata2_nilai_andi)"
   ]
  },
  {
   "cell_type": "markdown",
   "metadata": {},
   "source": [
    "selain aritmatik, kita punya pembanding atau dipanggil comparator\n",
    "\n",
    "- `>` lebih besar dari\n",
    "- `<` lebih kecil dari\n",
    "- `>=` lebih besar atau sama dengan dari\n",
    "- `<=` lebih kecil atau sama dengan dari\n",
    "- `==` sama\n",
    "- `!=` berbeda\n",
    "\n",
    "kita gunakan untuk membandingkan 2 data, biasanya dalam bentuk 2 variable\n",
    "\n",
    "hasil komparasi akan berbentuk boolean `True` untuk \"iya\" dan `False` untuk \"tidak\""
   ]
  },
  {
   "cell_type": "code",
   "execution_count": 35,
   "metadata": {},
   "outputs": [
    {
     "name": "stdout",
     "output_type": "stream",
     "text": [
      "True\n"
     ]
    }
   ],
   "source": [
    "nilai_budi_a1 = 80\n",
    "\n",
    "# apakah nilai budi lebih besar dari nilai andi untuk assignment 1?\n",
    "\n",
    "print(nilai_budi_a1 > nilai_andi_a1)"
   ]
  },
  {
   "cell_type": "markdown",
   "metadata": {},
   "source": [
    "data non numerik juga bisa di komparasi"
   ]
  },
  {
   "cell_type": "code",
   "execution_count": 36,
   "metadata": {},
   "outputs": [
    {
     "name": "stdout",
     "output_type": "stream",
     "text": [
      "False\n"
     ]
    }
   ],
   "source": [
    "print(\"a\" > \"b\")"
   ]
  },
  {
   "cell_type": "code",
   "execution_count": 37,
   "metadata": {},
   "outputs": [
    {
     "name": "stdout",
     "output_type": "stream",
     "text": [
      "True\n"
     ]
    }
   ],
   "source": [
    "print(\"a\" > \"A\")"
   ]
  },
  {
   "cell_type": "markdown",
   "metadata": {},
   "source": [
    "selain numerik, string juga bisa di komparasi. ini berguna saat kita mau sortir data.\n",
    "\n",
    "## penjelasan Boolean\n",
    "semua data di bahasa pemrograman memiliki value boolean nya.\n",
    "\n",
    "data bisa kita konversi tipenya antara satu sama lain.\n",
    "- int --> float\n",
    "- float --> integer\n",
    "- int, float --> string\n",
    "- string (khusus fully angka) --> int atau float\n",
    "- semua data --> boolean\n",
    "\n",
    "kenapa semua data bisa jadi boolean? semua data yang \"kosong\" dianggal False. data yang ada isinya dianggap True. yang dianggap False adalah:\n",
    "- 0 int\n",
    "- 0.0 float\n",
    "- \"\" string\n",
    "- False boolean\n",
    "\n",
    "semua data lain dianggap True, bahkan -10 dianggap True padahal 0 dianggap 0.\n",
    "\n",
    "berikutnya kita bisa coba konversi antar tipe data"
   ]
  },
  {
   "cell_type": "code",
   "execution_count": 38,
   "metadata": {},
   "outputs": [
    {
     "name": "stdout",
     "output_type": "stream",
     "text": [
      "<class 'int'>\n"
     ]
    }
   ],
   "source": [
    "a = 100\n",
    "print(type(a))"
   ]
  },
  {
   "cell_type": "code",
   "execution_count": 39,
   "metadata": {},
   "outputs": [
    {
     "name": "stdout",
     "output_type": "stream",
     "text": [
      "<class 'float'>\n"
     ]
    }
   ],
   "source": [
    "b = float(a)\n",
    "print(type(b))"
   ]
  },
  {
   "cell_type": "code",
   "execution_count": 40,
   "metadata": {},
   "outputs": [
    {
     "name": "stdout",
     "output_type": "stream",
     "text": [
      "100 100.0\n"
     ]
    }
   ],
   "source": [
    "print(a, b)"
   ]
  },
  {
   "cell_type": "code",
   "execution_count": 43,
   "metadata": {},
   "outputs": [
    {
     "name": "stdout",
     "output_type": "stream",
     "text": [
      "99.8 <class 'float'>\n",
      "99 <class 'int'>\n"
     ]
    }
   ],
   "source": [
    "a = 99.8\n",
    "print(a, type(a))\n",
    "\n",
    "b = int(a)\n",
    "print(b, type(b))"
   ]
  },
  {
   "cell_type": "code",
   "execution_count": 44,
   "metadata": {},
   "outputs": [
    {
     "name": "stdout",
     "output_type": "stream",
     "text": [
      "99.8 <class 'str'>\n",
      "99 <class 'str'>\n"
     ]
    }
   ],
   "source": [
    "# semua data bisa jadi string\n",
    "\n",
    "c = str(a)\n",
    "print(c, type(c))\n",
    "\n",
    "c = str(b)\n",
    "print(c, type(c))"
   ]
  },
  {
   "cell_type": "code",
   "execution_count": 54,
   "metadata": {},
   "outputs": [
    {
     "name": "stdout",
     "output_type": "stream",
     "text": [
      "0 <class 'str'>\n",
      "0.0 <class 'float'>\n",
      "0 <class 'int'>\n"
     ]
    }
   ],
   "source": [
    "# hanya string yang valid, beneran numerik, bisa jadi int atau float\n",
    "\n",
    "c = \"0\"\n",
    "print(c, type(c))\n",
    "\n",
    "b = float(c)\n",
    "print(b, type(b))\n",
    "\n",
    "a = int(c)\n",
    "print(a, type(a))"
   ]
  },
  {
   "cell_type": "code",
   "execution_count": 61,
   "metadata": {},
   "outputs": [
    {
     "name": "stdout",
     "output_type": "stream",
     "text": [
      "0 <class 'int'> False\n",
      "0.0 <class 'float'> False\n",
      "0 <class 'str'> True\n"
     ]
    }
   ],
   "source": [
    "# semua tipe data bisa jadi boolean\n",
    "\n",
    "print(a, type(a), bool(a))\n",
    "print(b, type(b), bool(b))\n",
    "print(c, type(c), bool(c))"
   ]
  },
  {
   "cell_type": "code",
   "execution_count": 59,
   "metadata": {},
   "outputs": [
    {
     "name": "stdout",
     "output_type": "stream",
     "text": [
      "0 <class 'str'> True\n",
      " <class 'str'> False\n"
     ]
    }
   ],
   "source": [
    "print(c, type(c), bool(c))\n",
    "\n",
    "d = \"\"\n",
    "print(d, type(d), bool(d))"
   ]
  },
  {
   "cell_type": "markdown",
   "metadata": {},
   "source": [
    "manipulasi String\n",
    "\n",
    "- kita sudah belajar cara melakukan aritmatik, \n",
    "- konsep boolean truthy dan falsy\n",
    "- operator untuk komparasi, bisa komparasi numerik dan string\n",
    "\n",
    "terakhir kita mau bahas manipulasi String\n",
    "- ditambah + untuk menempelkan beberapa String jadi satu\n",
    "- ubah Case, misalnya UPPERCASE lowercase TitleCase\n",
    "- cek panjang text string kita, ada berapa huruf\n",
    "- cek apakah ada text dalam text. apakah ada \"Hacktiv8\" dalam pesan \"mari belajar Python di Hacktiv8!\""
   ]
  },
  {
   "cell_type": "code",
   "execution_count": 62,
   "metadata": {},
   "outputs": [
    {
     "name": "stdout",
     "output_type": "stream",
     "text": [
      "Mari belajar Data Science dengan Python!\n"
     ]
    }
   ],
   "source": [
    "print(pesan)"
   ]
  },
  {
   "cell_type": "code",
   "execution_count": 63,
   "metadata": {},
   "outputs": [
    {
     "data": {
      "text/plain": [
       "'Mari belajar Data Science dengan Python! Hari ini kita belajar Sesi 1 menggunakan materi Hacktiv8 di kode.id.'"
      ]
     },
     "execution_count": 63,
     "metadata": {},
     "output_type": "execute_result"
    }
   ],
   "source": [
    "pesan + \" Hari ini kita belajar Sesi 1 menggunakan materi Hacktiv8 di kode.id.\""
   ]
  },
  {
   "cell_type": "code",
   "execution_count": 64,
   "metadata": {},
   "outputs": [
    {
     "name": "stdout",
     "output_type": "stream",
     "text": [
      "Mari belajar Data Science dengan Python!\n"
     ]
    }
   ],
   "source": [
    "print(pesan)"
   ]
  },
  {
   "cell_type": "code",
   "execution_count": 65,
   "metadata": {},
   "outputs": [
    {
     "name": "stdout",
     "output_type": "stream",
     "text": [
      "Mari belajar Data Science dengan Python! OK!!\n"
     ]
    }
   ],
   "source": [
    "pesan = pesan + \" OK!!\"\n",
    "\n",
    "print(pesan)"
   ]
  },
  {
   "cell_type": "code",
   "execution_count": 66,
   "metadata": {},
   "outputs": [
    {
     "name": "stdout",
     "output_type": "stream",
     "text": [
      "Mari belajar Data Science dengan Python! OK!!\n",
      "MARI BELAJAR DATA SCIENCE DENGAN PYTHON! OK!!\n",
      "mari belajar data science dengan python! ok!!\n",
      "Mari Belajar Data Science Dengan Python! Ok!!\n"
     ]
    }
   ],
   "source": [
    "print(pesan)\n",
    "print(pesan.upper())\n",
    "print(pesan.lower())\n",
    "print(pesan.title())"
   ]
  },
  {
   "cell_type": "code",
   "execution_count": 67,
   "metadata": {},
   "outputs": [
    {
     "name": "stdout",
     "output_type": "stream",
     "text": [
      "45\n"
     ]
    }
   ],
   "source": [
    "print(len(pesan))"
   ]
  },
  {
   "cell_type": "code",
   "execution_count": 68,
   "metadata": {},
   "outputs": [
    {
     "data": {
      "text/plain": [
       "False"
      ]
     },
     "execution_count": 68,
     "metadata": {},
     "output_type": "execute_result"
    }
   ],
   "source": [
    "\"Hacktiv8\" in pesan"
   ]
  },
  {
   "cell_type": "code",
   "execution_count": 71,
   "metadata": {},
   "outputs": [
    {
     "name": "stdout",
     "output_type": "stream",
     "text": [
      "False\n",
      "True\n"
     ]
    }
   ],
   "source": [
    "print(\"python\" in pesan)\n",
    "print(\"Python\" in pesan)"
   ]
  },
  {
   "cell_type": "code",
   "execution_count": 72,
   "metadata": {},
   "outputs": [
    {
     "name": "stdout",
     "output_type": "stream",
     "text": [
      "True\n"
     ]
    }
   ],
   "source": [
    "print(\"python\" in pesan.lower())"
   ]
  },
  {
   "cell_type": "markdown",
   "metadata": {},
   "source": [
    "## Structured Data Types\n",
    "- list\n",
    "- dictionary\n",
    "\n",
    "# List\n",
    "`[]`\n",
    "\n",
    "bisa diisi banyak data, setiap data dipisah dengan `,`\n",
    "\n",
    "jenis data bebas, boleh campur int float bool str list lagi juga boleh\n",
    "\n",
    "untuk mengambil satu data dari list, kita gunakan `index` angka integer mulai dari 0:\n",
    "- data pertama dalam sebuah list, punya `index` 0\n",
    "- data kedua, punya `index` 1,\n",
    "- dan seterusnya\n",
    "- bisa juga hitung mundur, `index` -1 untuk data terakhir dalam sebuah list\n",
    "- `index` -2 untuk data nomor 2 dari belakang\n",
    "- dan seterusnya\n",
    "- bisa pakai `len()` untuk cek ada berapa item data dalam sebuah list\n",
    "- kalau `index` tidak valid, akan error. misalnya kita minta `index` 3 padahal isi list nya cuma ada 3 item."
   ]
  },
  {
   "cell_type": "code",
   "execution_count": 74,
   "metadata": {},
   "outputs": [
    {
     "name": "stdout",
     "output_type": "stream",
     "text": [
      "[70, 80, 85, 95]\n",
      "<class 'list'>\n",
      "4\n"
     ]
    }
   ],
   "source": [
    "# misalnya nilai assigment 1,2,3 dan final project andi, kita simpan ke satu list\n",
    "nilai_andi = [70, 80, 85, 95]\n",
    "\n",
    "print(nilai_andi)\n",
    "print(type(nilai_andi))\n",
    "print(len(nilai_andi))"
   ]
  },
  {
   "cell_type": "code",
   "execution_count": 75,
   "metadata": {},
   "outputs": [
    {
     "name": "stdout",
     "output_type": "stream",
     "text": [
      "70\n"
     ]
    }
   ],
   "source": [
    "# misalnya kita mau ambil nilai assignment 1 milik andi\n",
    "print(nilai_andi[0])"
   ]
  },
  {
   "cell_type": "markdown",
   "metadata": {},
   "source": [
    "kenapa kurung kotak [] dipakai lagi, dan di belakang\n",
    "\n",
    "karena keterbatasan jenis kurung di keyboard kita, cuma ada [] () {} <>\n",
    "\n",
    "kita akan pakai jenis kurung yang sama di tempat2 berbeda\n",
    "- [] membuat list\n",
    "- [] juga dipakai untuk memilih `index` tertentu sebuah list\n",
    "- [] juga dipakai untuk memilih `key` tertentu sebuah dictionary\n",
    "\n",
    "- () untuk menjalankan function, tempat kita taruh datanya, seperti print(), type(), len()\n",
    "- () juga kita pakai untuk menjalankan function, yang tidak perlu data, misalnya \"text\".upper()\n",
    "\n",
    "- {} membuat dictionary"
   ]
  },
  {
   "cell_type": "code",
   "execution_count": 76,
   "metadata": {},
   "outputs": [
    {
     "name": "stdout",
     "output_type": "stream",
     "text": [
      "80\n"
     ]
    }
   ],
   "source": [
    "# kita ambil value assignment ke-2\n",
    "print(nilai_andi[1])"
   ]
  },
  {
   "cell_type": "code",
   "execution_count": 77,
   "metadata": {},
   "outputs": [
    {
     "name": "stdout",
     "output_type": "stream",
     "text": [
      "80\n"
     ]
    }
   ],
   "source": [
    "index = 1\n",
    "\n",
    "print(nilai_andi[index])"
   ]
  },
  {
   "cell_type": "code",
   "execution_count": 78,
   "metadata": {},
   "outputs": [
    {
     "name": "stdout",
     "output_type": "stream",
     "text": [
      "[70, 80, 85, 95]\n",
      "1\n"
     ]
    }
   ],
   "source": [
    "print(nilai_andi)\n",
    "print(index)"
   ]
  },
  {
   "cell_type": "code",
   "execution_count": 80,
   "metadata": {},
   "outputs": [
    {
     "name": "stdout",
     "output_type": "stream",
     "text": [
      "80\n"
     ]
    }
   ],
   "source": [
    "print([70, 80, 85, 95][1])"
   ]
  },
  {
   "cell_type": "markdown",
   "metadata": {},
   "source": [
    "kurung kotak yang pertama digunakan untuk membuat list\n",
    "\n",
    "kurung kotak yang kedua, yang menempel dengan list kita, digunakan untuk meminta item tertentu dari list nya, menggunakan angka `index`"
   ]
  },
  {
   "cell_type": "code",
   "execution_count": 81,
   "metadata": {},
   "outputs": [
    {
     "name": "stdout",
     "output_type": "stream",
     "text": [
      "4\n"
     ]
    }
   ],
   "source": [
    "print(len(nilai_andi))"
   ]
  },
  {
   "cell_type": "code",
   "execution_count": 85,
   "metadata": {},
   "outputs": [
    {
     "data": {
      "text/plain": [
       "True"
      ]
     },
     "execution_count": 85,
     "metadata": {},
     "output_type": "execute_result"
    }
   ],
   "source": [
    "# mirip string, kita bisa pakai \"in\" untuk cek ada item tertentu dalam list kita\n",
    "\n",
    "70 in nilai_andi"
   ]
  },
  {
   "cell_type": "markdown",
   "metadata": {},
   "source": [
    "biasanya saat mempelajari tipe data baru ada 4 konsep yang mau kita kuasai, disingkat:\n",
    "\n",
    "CRUD\n",
    "\n",
    "1. create - bikin tipe data baru ini, pakai `[]`\n",
    "2. read - bisa baca, pakai len(), pakai [index] untuk ambil item tertentu\n",
    "3. update - mengubah tipe data list\n",
    "4. delete - cara hapus datanya"
   ]
  },
  {
   "cell_type": "code",
   "execution_count": 87,
   "metadata": {},
   "outputs": [
    {
     "name": "stdout",
     "output_type": "stream",
     "text": [
      "nilai assignment 3 sekarang: 85\n"
     ]
    }
   ],
   "source": [
    "# update, kita ambil dulu data di posisi tertentu, baru kita ubah\n",
    "# misalnya, assignment ke-3 andi, dapat nilai tambahan 5 poin\n",
    "\n",
    "print(\"nilai assignment 3 sekarang:\", nilai_andi[2])"
   ]
  },
  {
   "cell_type": "code",
   "execution_count": 88,
   "metadata": {},
   "outputs": [],
   "source": [
    "nilai_andi[2] = nilai_andi[2] + 5"
   ]
  },
  {
   "cell_type": "code",
   "execution_count": 89,
   "metadata": {},
   "outputs": [
    {
     "name": "stdout",
     "output_type": "stream",
     "text": [
      "nilai assignment 3 setelah: 90\n"
     ]
    }
   ],
   "source": [
    "print(\"nilai assignment 3 setelah:\", nilai_andi[2])"
   ]
  },
  {
   "cell_type": "code",
   "execution_count": 90,
   "metadata": {},
   "outputs": [
    {
     "name": "stdout",
     "output_type": "stream",
     "text": [
      "[70, 80, 90, 95]\n"
     ]
    }
   ],
   "source": [
    "print(nilai_andi)"
   ]
  },
  {
   "cell_type": "code",
   "execution_count": 91,
   "metadata": {},
   "outputs": [
    {
     "name": "stdout",
     "output_type": "stream",
     "text": [
      "[70, 80, 80, 95]\n"
     ]
    }
   ],
   "source": [
    "# assign nilai assignment ke-3 menjadi 80\n",
    "\n",
    "nilai_andi[2] = 80\n",
    "\n",
    "print(nilai_andi)"
   ]
  },
  {
   "cell_type": "markdown",
   "metadata": {},
   "source": [
    "untuk delete data, ada cara yang \"extreme\" tidak direkomendasi, yaitu pakai keyword `del` untuk menghapus variable sekaligus"
   ]
  },
  {
   "cell_type": "code",
   "execution_count": 92,
   "metadata": {},
   "outputs": [],
   "source": [
    "# del nilai_andi"
   ]
  },
  {
   "cell_type": "code",
   "execution_count": 93,
   "metadata": {},
   "outputs": [
    {
     "ename": "NameError",
     "evalue": "name 'nilai_andi' is not defined",
     "output_type": "error",
     "traceback": [
      "\u001b[1;31m---------------------------------------------------------------------------\u001b[0m",
      "\u001b[1;31mNameError\u001b[0m                                 Traceback (most recent call last)",
      "Cell \u001b[1;32mIn[93], line 1\u001b[0m\n\u001b[1;32m----> 1\u001b[0m \u001b[38;5;28mprint\u001b[39m(nilai_andi)\n",
      "\u001b[1;31mNameError\u001b[0m: name 'nilai_andi' is not defined"
     ]
    }
   ],
   "source": [
    "# print(nilai_andi)"
   ]
  },
  {
   "cell_type": "code",
   "execution_count": 94,
   "metadata": {},
   "outputs": [],
   "source": [
    "# lebih di rekomen, kita set variable nya ke nilai kosong, nilai falsy\n",
    "# anggap nilai_andi dihapus, kita set ke list kosong\n",
    "nilai_andi = []"
   ]
  },
  {
   "cell_type": "code",
   "execution_count": 95,
   "metadata": {},
   "outputs": [
    {
     "name": "stdout",
     "output_type": "stream",
     "text": [
      "[]\n"
     ]
    }
   ],
   "source": [
    "print(nilai_andi)"
   ]
  },
  {
   "cell_type": "code",
   "execution_count": 96,
   "metadata": {},
   "outputs": [
    {
     "data": {
      "text/plain": [
       "False"
      ]
     },
     "execution_count": 96,
     "metadata": {},
     "output_type": "execute_result"
    }
   ],
   "source": [
    "# kita bisa pakai boolean untuk cek apakah variable ini ada isinya atau tidak\n",
    "bool(nilai_andi)"
   ]
  },
  {
   "cell_type": "markdown",
   "metadata": {},
   "source": [
    "kalau kosong, boolean nya selalu False"
   ]
  },
  {
   "cell_type": "markdown",
   "metadata": {},
   "source": [
    "# Dictionary\n",
    "\n",
    "tipe data terstruktur menggunakan {}, key, dan value.\n",
    "\n",
    "kalau list menyimpan data dalam bentuk sederet data, dipisah \",\", lalu setiap datanya punya angka urut `index`\n",
    "\n",
    "maka dictionary menyimpan data dalam bentuk acak tidak urut, dipisah \",\", tapi setiap data perlu kita simpan sepasang sepasang key:value. `key` adalah string yang kita gunakan menggantikan angka `index` untuk mengakses data tertentu."
   ]
  },
  {
   "cell_type": "code",
   "execution_count": 97,
   "metadata": {},
   "outputs": [
    {
     "name": "stdout",
     "output_type": "stream",
     "text": [
      "{'assignment1': 70, 'assignment2': 80, 'assignment3': 85, 'finalproject': 95}\n",
      "<class 'dict'>\n"
     ]
    }
   ],
   "source": [
    "# misal kita simpan nilai_andi sebagai dictionary\n",
    "nilai_andi = {\n",
    "    \"assignment1\": 70,\n",
    "    \"assignment2\": 80,\n",
    "    \"assignment3\": 85,\n",
    "    \"finalproject\": 95\n",
    "}\n",
    "\n",
    "print(nilai_andi)\n",
    "print(type(nilai_andi))"
   ]
  },
  {
   "cell_type": "code",
   "execution_count": 98,
   "metadata": {},
   "outputs": [
    {
     "data": {
      "text/plain": [
       "70"
      ]
     },
     "execution_count": 98,
     "metadata": {},
     "output_type": "execute_result"
    }
   ],
   "source": [
    "# cara baca item tertentu dalam dictionary, kita gunakan key\n",
    "# misalnya assignment 1\n",
    "\n",
    "nilai_andi[\"assignment1\"]"
   ]
  },
  {
   "cell_type": "code",
   "execution_count": 99,
   "metadata": {},
   "outputs": [
    {
     "data": {
      "text/plain": [
       "95"
      ]
     },
     "execution_count": 99,
     "metadata": {},
     "output_type": "execute_result"
    }
   ],
   "source": [
    "# misalnya final project\n",
    "nilai_andi[\"finalproject\"]"
   ]
  },
  {
   "cell_type": "markdown",
   "metadata": {},
   "source": [
    "list menggunakan angka urut `index` integer\n",
    "\n",
    "dictionary menggunakan `key` string\n",
    "\n",
    "mereka tipe data terstruktur, punya struktur, bisa menyimpan banyak data dengan satu variable"
   ]
  },
  {
   "cell_type": "code",
   "execution_count": 100,
   "metadata": {},
   "outputs": [
    {
     "name": "stdout",
     "output_type": "stream",
     "text": [
      "{'assignment1': 70, 'assignment2': 80, 'assignment3': 100, 'finalproject': 95}\n"
     ]
    }
   ],
   "source": [
    "# untuk dictionary, misalkan kita mau ubah value nilai assignment 3\n",
    "\n",
    "nilai_andi[\"assignment3\"] = 100\n",
    "\n",
    "print(nilai_andi)"
   ]
  },
  {
   "cell_type": "code",
   "execution_count": 101,
   "metadata": {},
   "outputs": [
    {
     "name": "stdout",
     "output_type": "stream",
     "text": [
      "{'assignment1': 70, 'assignment2': 80, 'assignment3': 100, 'finalproject': 95, 'assignment0': 10}\n"
     ]
    }
   ],
   "source": [
    "# selain update, kita bisa menambahkan key value juga\n",
    "# misalnya ada extra credit project assignment 0\n",
    "\n",
    "nilai_andi[\"assignment0\"] = 10\n",
    "\n",
    "print(nilai_andi)"
   ]
  },
  {
   "cell_type": "code",
   "execution_count": 102,
   "metadata": {},
   "outputs": [],
   "source": [
    "# untuk delete\n",
    "# best practice, kita set ke dictionary kosong\n",
    "nilai_andi = {}"
   ]
  },
  {
   "cell_type": "markdown",
   "metadata": {},
   "source": [
    "ada dua tipe data terstruktur bawaan Python lainnya:\n",
    "- tuple ()\n",
    "- set {}\n",
    "\n",
    "mereka mirip list juga, lebih mirip list daripada dictionary, hanya ada sedikit perbedaan rules.\n",
    "\n",
    "tuple datanya tidak bisa di update.\n",
    "\n",
    "set datanya unik, tidak ada data yang sama."
   ]
  },
  {
   "cell_type": "markdown",
   "metadata": {},
   "source": [
    "# Recap\n",
    "1. tipe data primitif\n",
    "    - int\n",
    "    - float\n",
    "    - str\n",
    "    - bool\n",
    "2. variable\n",
    "    - snake_case\n",
    "    - peraturan penamaan variable\n",
    "3. tipe data terstruktur\n",
    "    - list\n",
    "    - dictionary\n",
    "4. basic syntax python\n",
    "    - keyword umum print, len, type\n",
    "    - cara pakai function dengan ()"
   ]
  },
  {
   "cell_type": "code",
   "execution_count": 104,
   "metadata": {},
   "outputs": [
    {
     "name": "stdout",
     "output_type": "stream",
     "text": [
      "{'assignment1': 70, 'assignment2': 80, 'assignment3': 85, 'finalproject': 95}\n"
     ]
    }
   ],
   "source": [
    "nilai_andi = {\n",
    "    \"assignment1\": 70,\n",
    "    \"assignment2\": 80,\n",
    "    \"assignment3\": 85,\n",
    "    \"finalproject\": 95\n",
    "}\n",
    "\n",
    "print(nilai_andi)"
   ]
  },
  {
   "cell_type": "code",
   "execution_count": 105,
   "metadata": {},
   "outputs": [
    {
     "name": "stdout",
     "output_type": "stream",
     "text": [
      "{'nama': 'Andhika Rahardjo', 'umur': 28, 'hobi': ['makan', 'marathon', 'belajar hal baru'], 'berkacamata': True, 'pytn109': {'assignment1': 70, 'assignment2': 80, 'assignment3': 85, 'finalproject': 95}}\n"
     ]
    }
   ],
   "source": [
    "# menyimpan satu item dengan banyak atribut menggunakan dictionary\n",
    "# misalnya Andi sendiri\n",
    "\n",
    "andi = {\n",
    "    \"nama\": \"Andhika Rahardjo\",\n",
    "    \"umur\": 28,\n",
    "    \"hobi\": [\"makan\", \"marathon\", \"belajar hal baru\"],\n",
    "    \"berkacamata\": True,\n",
    "    \"pytn109\": nilai_andi\n",
    "}\n",
    "\n",
    "print(andi)"
   ]
  },
  {
   "cell_type": "code",
   "execution_count": 106,
   "metadata": {},
   "outputs": [
    {
     "data": {
      "text/plain": [
       "dict_keys(['nama', 'umur', 'hobi', 'berkacamata', 'pytn109'])"
      ]
     },
     "execution_count": 106,
     "metadata": {},
     "output_type": "execute_result"
    }
   ],
   "source": [
    "# kita bisa minta list keys nya sebuah dictionary\n",
    "\n",
    "andi.keys()"
   ]
  },
  {
   "cell_type": "code",
   "execution_count": 115,
   "metadata": {},
   "outputs": [
    {
     "name": "stdout",
     "output_type": "stream",
     "text": [
      "5\n",
      "True\n"
     ]
    }
   ],
   "source": [
    "keys_andi = list(andi.keys())\n",
    "\n",
    "print(len(keys_andi))\n",
    "\n",
    "print(\"nama\" in keys_andi)"
   ]
  },
  {
   "cell_type": "code",
   "execution_count": 108,
   "metadata": {},
   "outputs": [
    {
     "data": {
      "text/plain": [
       "dict_values([70, 80, 85, 95])"
      ]
     },
     "execution_count": 108,
     "metadata": {},
     "output_type": "execute_result"
    }
   ],
   "source": [
    "# selain keys, ada values juga untuk ambil values nya saja, dan ada yang minta keduanya, items\n",
    "\n",
    "nilai_andi.values()"
   ]
  },
  {
   "cell_type": "code",
   "execution_count": 109,
   "metadata": {},
   "outputs": [
    {
     "data": {
      "text/plain": [
       "dict_items([('assignment1', 70), ('assignment2', 80), ('assignment3', 85), ('finalproject', 95)])"
      ]
     },
     "execution_count": 109,
     "metadata": {},
     "output_type": "execute_result"
    }
   ],
   "source": [
    "# items akan ambil datanya sepasang sepasang pakai tuple\n",
    "nilai_andi.items()"
   ]
  },
  {
   "cell_type": "code",
   "execution_count": 110,
   "metadata": {},
   "outputs": [
    {
     "data": {
      "text/plain": [
       "['nama', 'umur', 'hobi', 'berkacamata', 'pytn109']"
      ]
     },
     "execution_count": 110,
     "metadata": {},
     "output_type": "execute_result"
    }
   ],
   "source": [
    "list(andi.keys())"
   ]
  },
  {
   "cell_type": "code",
   "execution_count": 111,
   "metadata": {},
   "outputs": [
    {
     "data": {
      "text/plain": [
       "'nama'"
      ]
     },
     "execution_count": 111,
     "metadata": {},
     "output_type": "execute_result"
    }
   ],
   "source": [
    "list(andi.keys())[0]"
   ]
  },
  {
   "cell_type": "code",
   "execution_count": 112,
   "metadata": {},
   "outputs": [
    {
     "data": {
      "text/plain": [
       "'umur'"
      ]
     },
     "execution_count": 112,
     "metadata": {},
     "output_type": "execute_result"
    }
   ],
   "source": [
    "list(andi.keys())[1]"
   ]
  },
  {
   "cell_type": "code",
   "execution_count": null,
   "metadata": {},
   "outputs": [],
   "source": [
    "# kalau kita mau hapus key tertentu dalam sebuah dictionary\n",
    "# kita bisa pakai del\n",
    "# atau lebih baik best practice kita set value key tersebut ke kosong\n",
    "\n",
    "# misal kita mau hapus nilai-nilai kelas pytn109 dari andi\n",
    "\n",
    "andi['pytn109'] = {}"
   ]
  },
  {
   "cell_type": "markdown",
   "metadata": {},
   "source": [
    "berikut tambahan untuk dictionary, keys, values, items\n",
    "\n",
    "untuk list, kita ada tambahan juga: \n",
    "- menggunakan teknik slicing, mengambil beberapa `index` sekaligus\n",
    "- menggunakan operator + dan * mirip seperti string untuk menambah item dalam list"
   ]
  },
  {
   "cell_type": "code",
   "execution_count": 117,
   "metadata": {},
   "outputs": [
    {
     "name": "stdout",
     "output_type": "stream",
     "text": [
      "['apel', 'pisang', 'jeruk', 'mangga', 'semangka']\n",
      "5\n"
     ]
    }
   ],
   "source": [
    "buah_buahan = ['apel', 'pisang', 'jeruk', 'mangga', 'semangka']\n",
    "print(buah_buahan)\n",
    "print(len(buah_buahan))"
   ]
  },
  {
   "cell_type": "code",
   "execution_count": 118,
   "metadata": {},
   "outputs": [
    {
     "data": {
      "text/plain": [
       "['jeruk', 'mangga', 'semangka']"
      ]
     },
     "execution_count": 118,
     "metadata": {},
     "output_type": "execute_result"
    }
   ],
   "source": [
    "# 3 buah terakhir\n",
    "buah_buahan[-3:]"
   ]
  },
  {
   "cell_type": "code",
   "execution_count": 119,
   "metadata": {},
   "outputs": [
    {
     "data": {
      "text/plain": [
       "['apel', 'pisang']"
      ]
     },
     "execution_count": 119,
     "metadata": {},
     "output_type": "execute_result"
    }
   ],
   "source": [
    "# 2 buah pertama\n",
    "buah_buahan[0:2]"
   ]
  },
  {
   "cell_type": "code",
   "execution_count": 120,
   "metadata": {},
   "outputs": [
    {
     "data": {
      "text/plain": [
       "['jeruk', 'mangga', 'semangka']"
      ]
     },
     "execution_count": 120,
     "metadata": {},
     "output_type": "execute_result"
    }
   ],
   "source": [
    "# buah ke3 sampai ke5\n",
    "buah_buahan[2:5]"
   ]
  },
  {
   "cell_type": "markdown",
   "metadata": {},
   "source": [
    "konsep slicing akan sering sekali kita temui saat manipulasi data tabular menggunakan Pandas di sesi 5 dan seterusnya"
   ]
  },
  {
   "cell_type": "code",
   "execution_count": 121,
   "metadata": {},
   "outputs": [
    {
     "name": "stdout",
     "output_type": "stream",
     "text": [
      "['apel', 'pisang', 'jeruk', 'mangga', 'semangka']\n"
     ]
    }
   ],
   "source": [
    "# operator + dan *\n",
    "print(buah_buahan)"
   ]
  },
  {
   "cell_type": "code",
   "execution_count": 122,
   "metadata": {},
   "outputs": [
    {
     "name": "stdout",
     "output_type": "stream",
     "text": [
      "['apel', 'pisang', 'jeruk', 'mangga', 'semangka', 'apel', 'pisang', 'jeruk', 'mangga', 'semangka', 'apel', 'pisang', 'jeruk', 'mangga', 'semangka', 'apel', 'pisang', 'jeruk', 'mangga', 'semangka', 'apel', 'pisang', 'jeruk', 'mangga', 'semangka']\n"
     ]
    }
   ],
   "source": [
    "banyak_buah = buah_buahan * 5\n",
    "\n",
    "print(banyak_buah)"
   ]
  },
  {
   "cell_type": "code",
   "execution_count": 125,
   "metadata": {},
   "outputs": [
    {
     "data": {
      "text/plain": [
       "['apel',\n",
       " 'pisang',\n",
       " 'jeruk',\n",
       " 'mangga',\n",
       " 'semangka',\n",
       " 'kelapa',\n",
       " 'duku',\n",
       " 'manggis',\n",
       " 'durian']"
      ]
     },
     "execution_count": 125,
     "metadata": {},
     "output_type": "execute_result"
    }
   ],
   "source": [
    "buah_buahan2 = [\n",
    "    \"kelapa\", \n",
    "    \"duku\", \n",
    "    \"manggis\"\n",
    "    ]\n",
    "\n",
    "buah_buahan + buah_buahan2 + [\"durian\"]"
   ]
  },
  {
   "cell_type": "code",
   "execution_count": null,
   "metadata": {},
   "outputs": [],
   "source": []
  }
 ],
 "metadata": {
  "kernelspec": {
   "display_name": "Python 3",
   "language": "python",
   "name": "python3"
  },
  "language_info": {
   "codemirror_mode": {
    "name": "ipython",
    "version": 3
   },
   "file_extension": ".py",
   "mimetype": "text/x-python",
   "name": "python",
   "nbconvert_exporter": "python",
   "pygments_lexer": "ipython3",
   "version": "3.12.4"
  }
 },
 "nbformat": 4,
 "nbformat_minor": 2
}
