{
 "cells": [
  {
   "cell_type": "code",
   "execution_count": 44,
   "metadata": {},
   "outputs": [
    {
     "name": "stdout",
     "output_type": "stream",
     "text": [
      "Weird\n",
      "Not Weird\n"
     ]
    }
   ],
   "source": [
    "n = 3\n",
    "if n % 2 != 0:\n",
    "    print(\"Weird\")\n",
    "elif n % 2 == 0 and n in range(2,6):\n",
    "    print(\"Not Weird\")\n",
    "elif n % 2 == 0 and n in range(6,21):\n",
    "    print(\"Weird\")\n",
    "elif n % 2 == 0 and n >= 20:\n",
    "    print(\"Not Weird\")\n",
    "\n",
    "n = 24\n",
    "\n",
    "if n % 2 != 0:\n",
    "    print(\"Weird\")\n",
    "elif n % 2 == 0 and n in range(2,6):\n",
    "    print(\"Not Weird\")\n",
    "elif n % 2 == 0 and n in range(6,21):\n",
    "    print(\"Weird\")\n",
    "elif n % 2 == 0 and n >= 20:\n",
    "    print(\"Not Weird\")\n"
   ]
  },
  {
   "cell_type": "code",
   "execution_count": 83,
   "metadata": {},
   "outputs": [
    {
     "name": "stdout",
     "output_type": "stream",
     "text": [
      "Selamat datang di Sesi 2 Python 109!\n"
     ]
    }
   ],
   "source": [
    "# making variable, includes string with many charas # \n",
    "pesan = \"Selamat datang di Sesi 2 Python 109!\"\n",
    "print(pesan)"
   ]
  },
  {
   "cell_type": "code",
   "execution_count": 84,
   "metadata": {},
   "outputs": [
    {
     "name": "stdout",
     "output_type": "stream",
     "text": [
      "Not of age\n"
     ]
    }
   ],
   "source": [
    "nadias_age = 23\n",
    "if nadias_age == 24:\n",
    "    print(\"Nadia's in her early 20s\") \n",
    "if nadias_age >= 24:\n",
    "    print(\"Nadia's in her mid to late 20s\")\n",
    "else: \n",
    "    print(\"Not of age\")"
   ]
  },
  {
   "cell_type": "code",
   "execution_count": 85,
   "metadata": {},
   "outputs": [
    {
     "name": "stdout",
     "output_type": "stream",
     "text": [
      "besar\n"
     ]
    }
   ],
   "source": [
    "x = 101\n",
    "if x > 100:\n",
    "    print(\"besar\")\n",
    "else: \n",
    "    print(\"tidak\")"
   ]
  },
  {
   "cell_type": "code",
   "execution_count": 86,
   "metadata": {},
   "outputs": [
    {
     "name": "stdout",
     "output_type": "stream",
     "text": [
      "Nadia's no longer in her first job\n"
     ]
    }
   ],
   "source": [
    "nadias_things = {\n",
    "    \"food\" : \"pasta\",\n",
    "    \"drink\" : \"coffee\", \n",
    "    \"pet\" : \"cat\",\n",
    "    \"color\" : \"black\" or \"white\",\n",
    "    \"age\" : 24\n",
    "}\n",
    "if nadias_things[\"age\"] == 23:\n",
    "    print(\"Nadia's still in her first job\")\n",
    "else:\n",
    "    print(\"Nadia's no longer in her first job\")"
   ]
  },
  {
   "cell_type": "code",
   "execution_count": 87,
   "metadata": {},
   "outputs": [
    {
     "name": "stdout",
     "output_type": "stream",
     "text": [
      "maybe it is right\n"
     ]
    }
   ],
   "source": [
    "if nadias_things[\"food\"] != \"pasta\":\n",
    "    print(nadias_things[\"food\"] + \" \" + \"is supposed to  be her food thing\")\n",
    "elif nadias_things[\"food\"] == \"pasta\":\n",
    "    print(\"maybe it is right\")\n",
    "else: \n",
    "    print(\"It's okay\")"
   ]
  },
  {
   "cell_type": "code",
   "execution_count": 88,
   "metadata": {},
   "outputs": [
    {
     "name": "stdout",
     "output_type": "stream",
     "text": [
      "Guess what is true and what is not\n"
     ]
    }
   ],
   "source": [
    "if nadias_things[\"age\"] == 24 and nadias_things[\"drink\"] == \"matcha\":\n",
    "    print(\"It's trueeee\")\n",
    "else:\n",
    "    print(\"Guess what is true and what is not\")"
   ]
  },
  {
   "cell_type": "code",
   "execution_count": 11,
   "metadata": {},
   "outputs": [
    {
     "data": {
      "text/plain": [
       "'yes'"
      ]
     },
     "execution_count": 11,
     "metadata": {},
     "output_type": "execute_result"
    }
   ],
   "source": [
    "pet_1 = \"piyik\" \n",
    "pet_now = \"yes\" if pet_1 == \"piyik\" else \"popoy\"\n",
    "pet_now"
   ]
  },
  {
   "cell_type": "markdown",
   "metadata": {},
   "source": [
    "loop\n",
    "while = example: neverending 'if'\n",
    "for = utk execute sekian kali "
   ]
  },
  {
   "cell_type": "code",
   "execution_count": 89,
   "metadata": {},
   "outputs": [
    {
     "name": "stdout",
     "output_type": "stream",
     "text": [
      "0\n",
      "1\n",
      "4\n",
      "9\n",
      "16\n",
      "25\n",
      "36\n",
      "49\n",
      "64\n",
      "81\n",
      "100\n",
      "121\n",
      "144\n",
      "169\n",
      "196\n",
      "225\n",
      "256\n",
      "289\n",
      "324\n",
      "361\n"
     ]
    }
   ],
   "source": [
    "for testa in range(20):\n",
    "    print(testa ** 2)\n",
    "# basically 0^2 - 20^2 # "
   ]
  },
  {
   "cell_type": "code",
   "execution_count": 8,
   "metadata": {},
   "outputs": [
    {
     "name": "stdout",
     "output_type": "stream",
     "text": [
      "1\n",
      "2\n",
      "3\n",
      "4\n",
      "5\n"
     ]
    }
   ],
   "source": [
    "i = 1\n",
    "while i < 6:\n",
    "  print(i)\n",
    "  i += 1\n"
   ]
  },
  {
   "cell_type": "code",
   "execution_count": 9,
   "metadata": {},
   "outputs": [
    {
     "name": "stdout",
     "output_type": "stream",
     "text": [
      "1\n",
      "2\n",
      "3\n"
     ]
    }
   ],
   "source": [
    "i = 1\n",
    "while i < 6:\n",
    "  print(i)\n",
    "  if i == 3:\n",
    "    break\n",
    "  i += 1"
   ]
  },
  {
   "cell_type": "code",
   "execution_count": 10,
   "metadata": {},
   "outputs": [
    {
     "name": "stdout",
     "output_type": "stream",
     "text": [
      "1\n",
      "2\n",
      "3\n",
      "4\n",
      "5\n",
      "i is no longer less than 6\n"
     ]
    }
   ],
   "source": [
    "i = 1\n",
    "while i < 6:\n",
    "  print(i)\n",
    "  i += 1\n",
    "else:\n",
    "  print(\"i is no longer less than 6\")"
   ]
  },
  {
   "cell_type": "code",
   "execution_count": 11,
   "metadata": {},
   "outputs": [
    {
     "name": "stdout",
     "output_type": "stream",
     "text": [
      "1\n",
      "2\n",
      "4\n",
      "5\n",
      "6\n"
     ]
    }
   ],
   "source": [
    "i = 0\n",
    "while i < 6:\n",
    "  i += 1\n",
    "  if i == 3:\n",
    "    continue\n",
    "  print(i)"
   ]
  },
  {
   "cell_type": "code",
   "execution_count": 90,
   "metadata": {},
   "outputs": [
    {
     "name": "stdout",
     "output_type": "stream",
     "text": [
      "70\n",
      "71\n",
      "72\n",
      "73\n",
      "74\n",
      "75\n",
      "76\n",
      "77\n",
      "78\n",
      "79\n",
      "80\n"
     ]
    }
   ],
   "source": [
    "x = 70 \n",
    "while x <= 80:\n",
    "    print(x)\n",
    "    x = x + 1"
   ]
  },
  {
   "cell_type": "code",
   "execution_count": 12,
   "metadata": {},
   "outputs": [
    {
     "name": "stdout",
     "output_type": "stream",
     "text": [
      "apple\n",
      "banana\n"
     ]
    }
   ],
   "source": [
    "fruits = [\"apple\", \"banana\", \"cherry\"]\n",
    "for x in fruits:\n",
    "  print(x)\n",
    "  if x == \"banana\":\n",
    "    break"
   ]
  },
  {
   "cell_type": "code",
   "execution_count": 13,
   "metadata": {},
   "outputs": [
    {
     "name": "stdout",
     "output_type": "stream",
     "text": [
      "apple\n",
      "cherry\n"
     ]
    }
   ],
   "source": [
    "fruits = [\"apple\", \"banana\", \"cherry\"]\n",
    "for x in fruits:\n",
    "  if x == \"banana\":\n",
    "    continue\n",
    "  print(x)"
   ]
  },
  {
   "cell_type": "code",
   "execution_count": 14,
   "metadata": {},
   "outputs": [
    {
     "name": "stdout",
     "output_type": "stream",
     "text": [
      "2\n",
      "5\n",
      "8\n",
      "11\n",
      "14\n",
      "17\n",
      "20\n",
      "23\n",
      "26\n",
      "29\n"
     ]
    }
   ],
   "source": [
    "for x in range(2, 30, 3):\n",
    "  print(x)\n",
    "# increment the sequence with 3"
   ]
  },
  {
   "cell_type": "code",
   "execution_count": 15,
   "metadata": {},
   "outputs": [
    {
     "name": "stdout",
     "output_type": "stream",
     "text": [
      "0\n",
      "1\n",
      "2\n",
      "3\n",
      "4\n",
      "5\n",
      "Finally finished!\n"
     ]
    }
   ],
   "source": [
    "for x in range(6):\n",
    "  print(x)\n",
    "else:\n",
    "  print(\"Finally finished!\")"
   ]
  },
  {
   "cell_type": "code",
   "execution_count": 16,
   "metadata": {},
   "outputs": [
    {
     "name": "stdout",
     "output_type": "stream",
     "text": [
      "0\n",
      "1\n",
      "2\n"
     ]
    }
   ],
   "source": [
    "for x in range(6):\n",
    "  if x == 3: break\n",
    "  print(x)\n",
    "else:\n",
    "  print(\"Finally finished!\")"
   ]
  },
  {
   "cell_type": "code",
   "execution_count": 17,
   "metadata": {},
   "outputs": [
    {
     "name": "stdout",
     "output_type": "stream",
     "text": [
      "red apple\n",
      "red banana\n",
      "red cherry\n",
      "big apple\n",
      "big banana\n",
      "big cherry\n",
      "tasty apple\n",
      "tasty banana\n",
      "tasty cherry\n"
     ]
    }
   ],
   "source": [
    "# nested loops\n",
    "adj = [\"red\", \"big\", \"tasty\"]\n",
    "fruits = [\"apple\", \"banana\", \"cherry\"]\n",
    "\n",
    "for x in adj:\n",
    "  for y in fruits:\n",
    "    print(x, y)"
   ]
  },
  {
   "cell_type": "code",
   "execution_count": null,
   "metadata": {},
   "outputs": [],
   "source": []
  },
  {
   "cell_type": "code",
   "execution_count": 5,
   "metadata": {},
   "outputs": [
    {
     "name": "stdout",
     "output_type": "stream",
     "text": [
      "70\n",
      "71\n",
      "72\n",
      "73\n",
      "74\n",
      "75\n",
      "76\n",
      "77\n",
      "78\n",
      "79\n",
      "80\n"
     ]
    }
   ],
   "source": [
    "for a in range(69,80):\n",
    "    print(a + 1)"
   ]
  },
  {
   "cell_type": "code",
   "execution_count": 6,
   "metadata": {},
   "outputs": [
    {
     "name": "stdout",
     "output_type": "stream",
     "text": [
      "N\n",
      "a\n",
      "d\n",
      "i\n",
      "a\n"
     ]
    }
   ],
   "source": [
    "# will give output of every chara in \"Nadia\" #\n",
    "for x in \"Nadia\":\n",
    "    print(x)"
   ]
  },
  {
   "cell_type": "code",
   "execution_count": 10,
   "metadata": {},
   "outputs": [
    {
     "name": "stdout",
     "output_type": "stream",
     "text": [
      "There is one, which is =  50\n"
     ]
    }
   ],
   "source": [
    "for x in range(100):\n",
    "    if (x / 10 == 5):\n",
    "        print(\"There is one, which is = \",x)"
   ]
  },
  {
   "cell_type": "code",
   "execution_count": 2,
   "metadata": {},
   "outputs": [],
   "source": [
    "murid_murid = [ \n",
    "    {\"nama\": \"Andhika Raharjo\", \"nilai\": [85, 65, 90, 70]},\n",
    "    {\"nama\": \"Budi Budiman\", \"nilai\": [75, 70, 65, 60]},\n",
    "    {\"nama\": \"Cindy Cantika\", \"nilai\": [60, 70, 80, 90]},\n",
    "    {\"nama\": \"Denisa Trisnadi\", \"nilai\": [80, 85, 90, 60]},\n",
    "    {\"nama\": \"Erika Cahyadi\", \"nilai\": [69, 88, 77, 60]}\n",
    "    ]\n",
    "# print nama murid yang memiliki nilai rata2 diatas 70 #"
   ]
  },
  {
   "cell_type": "code",
   "execution_count": 3,
   "metadata": {},
   "outputs": [],
   "source": [
    "sum_0 = sum(murid_murid[0][\"nilai\"])\n",
    "sum_1 = sum(murid_murid[1][\"nilai\"])\n",
    "sum_2 = sum(murid_murid[2][\"nilai\"])\n",
    "sum_3 = sum(murid_murid[3][\"nilai\"])\n",
    "sum_4 = sum(murid_murid[4][\"nilai\"])"
   ]
  },
  {
   "cell_type": "code",
   "execution_count": 4,
   "metadata": {},
   "outputs": [],
   "source": [
    "len_0 = len(murid_murid[0][\"nilai\"])\n",
    "len_1 = len(murid_murid[1][\"nilai\"])\n",
    "len_2 = len(murid_murid[2][\"nilai\"])\n",
    "len_3 = len(murid_murid[3][\"nilai\"])\n",
    "len_4 = len(murid_murid[4][\"nilai\"])"
   ]
  },
  {
   "cell_type": "code",
   "execution_count": 5,
   "metadata": {},
   "outputs": [],
   "source": [
    "nilai0 = (sum_0 / len_0)\n",
    "nilai1 = (sum_1 / len_1)\n",
    "nilai2 = (sum_2 / len_2)\n",
    "nilai3 = (sum_3 / len_3)\n",
    "nilai4 = (sum_4 / len_4)"
   ]
  },
  {
   "cell_type": "code",
   "execution_count": 6,
   "metadata": {},
   "outputs": [
    {
     "name": "stdout",
     "output_type": "stream",
     "text": [
      "77.5\n",
      "67.5\n",
      "75.0\n",
      "78.75\n",
      "73.5\n"
     ]
    }
   ],
   "source": [
    "print(nilai0)\n",
    "print(nilai1)\n",
    "print(nilai2)\n",
    "print(nilai3)\n",
    "print(nilai4)"
   ]
  },
  {
   "cell_type": "code",
   "execution_count": 7,
   "metadata": {},
   "outputs": [
    {
     "name": "stdout",
     "output_type": "stream",
     "text": [
      "It would be nice if my score was at least above 75.0\n"
     ]
    }
   ],
   "source": [
    "print(f\"It would be nice if my score was at least above {nilai2}\")"
   ]
  },
  {
   "cell_type": "code",
   "execution_count": 8,
   "metadata": {},
   "outputs": [],
   "source": [
    "rataan_murid = [ \n",
    "    {\"nama\": \"Andhika Raharjo\", \"nilai\": 77.5},\n",
    "    {\"nama\": \"Budi Budiman\", \"nilai\": 67.5},\n",
    "    {\"nama\": \"Cindy Cantika\", \"nilai\": 75.0},\n",
    "    {\"nama\": \"Denisa Trisnadi\", \"nilai\": 78.75},\n",
    "    {\"nama\": \"Erika Cahyadi\", \"nilai\": 73.5}\n",
    "    ]"
   ]
  },
  {
   "cell_type": "code",
   "execution_count": 18,
   "metadata": {},
   "outputs": [
    {
     "name": "stdout",
     "output_type": "stream",
     "text": [
      "{'nama': 'Andhika Raharjo', 'nilai': 77.5}\n",
      "{'nama': 'Cindy Cantika', 'nilai': 75.0}\n",
      "{'nama': 'Denisa Trisnadi', 'nilai': 78.75}\n",
      "{'nama': 'Erika Cahyadi', 'nilai': 73.5}\n"
     ]
    }
   ],
   "source": [
    "for nama in rataan_murid:\n",
    "    if nama[\"nilai\"] > 70:\n",
    "        print(nama)"
   ]
  },
  {
   "cell_type": "markdown",
   "metadata": {},
   "source": [
    "1. cari rata2 nilai tiap orang\n",
    "2. assign rata2 itu ke tiap orang (bikin dict baru) (loop pake f)\n",
    "3. pake for cari dah yg rata2 nilainya di atas 70 siapa aja"
   ]
  },
  {
   "cell_type": "code",
   "execution_count": 60,
   "metadata": {},
   "outputs": [
    {
     "name": "stdout",
     "output_type": "stream",
     "text": [
      "1 6\n"
     ]
    }
   ],
   "source": [
    "print(1,6)"
   ]
  }
 ],
 "metadata": {
  "kernelspec": {
   "display_name": "base",
   "language": "python",
   "name": "python3"
  },
  "language_info": {
   "codemirror_mode": {
    "name": "ipython",
    "version": 3
   },
   "file_extension": ".py",
   "mimetype": "text/x-python",
   "name": "python",
   "nbconvert_exporter": "python",
   "pygments_lexer": "ipython3",
   "version": "3.12.4"
  }
 },
 "nbformat": 4,
 "nbformat_minor": 2
}
