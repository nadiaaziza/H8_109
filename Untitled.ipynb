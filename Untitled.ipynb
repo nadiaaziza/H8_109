{
 "cells": [
  {
   "cell_type": "code",
   "execution_count": 1,
   "id": "fade27df-e843-406e-8905-e34710f0b556",
   "metadata": {},
   "outputs": [
    {
     "name": "stdout",
     "output_type": "stream",
     "text": [
      "Hellooooooo\n"
     ]
    }
   ],
   "source": [
    "print(\"Hellooooooo\")"
   ]
  },
  {
   "cell_type": "code",
   "execution_count": null,
   "id": "064a6efc-623b-465e-bc9e-55bb3af54e39",
   "metadata": {},
   "outputs": [],
   "source": []
  }
 ],
 "metadata": {
  "kernelspec": {
   "display_name": "Python 3 (ipykernel)",
   "language": "python",
   "name": "python3"
  },
  "language_info": {
   "codemirror_mode": {
    "name": "ipython",
    "version": 3
   },
   "file_extension": ".py",
   "mimetype": "text/x-python",
   "name": "python",
   "nbconvert_exporter": "python",
   "pygments_lexer": "ipython3",
   "version": "3.12.4"
  }
 },
 "nbformat": 4,
 "nbformat_minor": 5
}
